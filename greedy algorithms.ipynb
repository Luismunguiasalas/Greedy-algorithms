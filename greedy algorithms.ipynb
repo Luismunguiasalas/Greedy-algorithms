{
 "metadata": {
  "language_info": {
   "codemirror_mode": {
    "name": "ipython",
    "version": 3
   },
   "file_extension": ".py",
   "mimetype": "text/x-python",
   "name": "python",
   "nbconvert_exporter": "python",
   "pygments_lexer": "ipython3",
   "version": "3.8.5-final"
  },
  "orig_nbformat": 2,
  "kernelspec": {
   "name": "python3",
   "display_name": "Python 3",
   "language": "python"
  }
 },
 "nbformat": 4,
 "nbformat_minor": 2,
 "cells": [
  {
   "cell_type": "code",
   "execution_count": null,
   "metadata": {},
   "outputs": [],
   "source": [
    "\"\"\"\n",
    "greedy is an algorithmic paradigm in which the solution is built piece by piece.\n",
    "The piece that offers the most obvious and immediate benefit is chosen. A locally optimal choice is made in the hope that it will lead to a globally-optimal solution\n",
    "\n",
    "sometimes the greedy algorithm fails to find the optimal solution because it does not consider all the data\n",
    "\"\"\""
   ]
  },
  {
   "cell_type": "code",
   "execution_count": null,
   "metadata": {},
   "outputs": [],
   "source": [
    "def find_min_coins(v,coins_available):\n",
    "    result = []\n",
    "    index = -1\n",
    "    while v > 0:\n",
    "        if coins_available[index] <= v:\n",
    "            v -= coins_available[index]\n",
    "            result.append(coins_available[index])\n",
    "        else:\n",
    "            index -= 1\n",
    "\n",
    "v = 19\n",
    "available_coins=[1,5,10,25]\n",
    "find_min_coins(v,available_coins)\n",
    "\n",
    "# time complexity is O(n), the greedy idea is to start from the largest possible coin, and keep adding coins while the remaining value is greater than 0."
   ]
  },
  {
   "cell_type": "code",
   "execution_count": 14,
   "metadata": {},
   "outputs": [
    {
     "output_type": "execute_result",
     "data": {
      "text/plain": [
       "29"
      ]
     },
     "metadata": {},
     "execution_count": 14
    }
   ],
   "source": [
    "def min_cost(pipes):\n",
    "    pipes.sort()\n",
    "    cost , total_cost = 0, 0\n",
    "    for c in range(len(pipes)):\n",
    "        cost += pipes[c]\n",
    "        if c >= 1:\n",
    "            total_cost = total_cost + cost\n",
    "    return total_cost\n",
    "\n",
    "pipes = [4,3,2,6]\n",
    "min_cost(pipes)\n",
    "#result = 29\n",
    "#given n pipes, find the minimum cost of connecting them. the cost to connect two pipes is equalt to the sum of their lengths.\n",
    "\n",
    "# O(n log n) time because of timsort"
   ]
  },
  {
   "cell_type": "code",
   "execution_count": 28,
   "metadata": {},
   "outputs": [
    {
     "output_type": "stream",
     "name": "stdout",
     "text": [
      "3\n2\n6\n1\n"
     ]
    },
    {
     "output_type": "execute_result",
     "data": {
      "text/plain": [
       "[2, 6]"
      ]
     },
     "metadata": {},
     "execution_count": 28
    }
   ],
   "source": [
    "import math\n",
    "def egyptian_fraction(numerator, denominator):\n",
    "    result = []\n",
    "    while numerator > 0:\n",
    "        i = math.ceil(denominator/numerator)\n",
    "        result.append(i)\n",
    "        numerator = i * numerator - denominator\n",
    "        denominator = denominator * i\n",
    "    return result    \n",
    "\n",
    "numerator = 2\n",
    "denominator = 3\n",
    "\n",
    "egyptian_fraction(numerator, denominator)\n",
    "#find the egyptian fractions denominators\n",
    "# result = [2,6]\n",
    "# O(log n) time"
   ]
  },
  {
   "cell_type": "code",
   "execution_count": 30,
   "metadata": {},
   "outputs": [
    {
     "output_type": "execute_result",
     "data": {
      "text/plain": [
       "3"
      ]
     },
     "metadata": {},
     "execution_count": 30
    }
   ],
   "source": [
    "def find_min_platform(arrival,departure):\n",
    "    c = departure[0]\n",
    "    cnt = 0\n",
    "    g= 0\n",
    "    for d in departure[1:]:\n",
    "        if d > c:\n",
    "            c = d\n",
    "            cnt = 1\n",
    "        elif c > d:\n",
    "            cnt += 1\n",
    "        if cnt > g:\n",
    "            g = cnt\n",
    "    return g\n",
    "    \n",
    "arrival= [900, 940, 950, 1100, 1500, 1800]\n",
    "departure = [910, 1200, 1120, 1130, 1900, 2000]\n",
    "find_min_platform(arrival,departure)"
   ]
  }
 ]
}